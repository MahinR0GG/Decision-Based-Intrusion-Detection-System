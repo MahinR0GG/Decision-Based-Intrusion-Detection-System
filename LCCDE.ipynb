{
  "cells": [
    {
      "cell_type": "code",
      "execution_count": null,
      "metadata": {
        "colab": {
          "base_uri": "https://localhost:8080/"
        },
        "id": "p0G3cG1ApOVz",
        "outputId": "5cc51285-1a4e-4825-bfc8-2e54624b54ab"
      },
      "outputs": [
        {
          "name": "stdout",
          "output_type": "stream",
          "text": [
            "Requirement already satisfied: river in d:\\studies and other stuffs\\cybersecurity\\cs-ids\\venv\\lib\\site-packages (0.22.0)\n",
            "Requirement already satisfied: numpy>=1.23.0 in d:\\studies and other stuffs\\cybersecurity\\cs-ids\\venv\\lib\\site-packages (from river) (2.2.2)\n",
            "Requirement already satisfied: pandas<3.0.0,>=2.2.3 in d:\\studies and other stuffs\\cybersecurity\\cs-ids\\venv\\lib\\site-packages (from river) (2.2.3)\n",
            "Requirement already satisfied: scipy<2.0.0,>=1.14.1 in d:\\studies and other stuffs\\cybersecurity\\cs-ids\\venv\\lib\\site-packages (from river) (1.15.1)\n",
            "Requirement already satisfied: python-dateutil>=2.8.2 in d:\\studies and other stuffs\\cybersecurity\\cs-ids\\venv\\lib\\site-packages (from pandas<3.0.0,>=2.2.3->river) (2.9.0.post0)\n",
            "Requirement already satisfied: pytz>=2020.1 in d:\\studies and other stuffs\\cybersecurity\\cs-ids\\venv\\lib\\site-packages (from pandas<3.0.0,>=2.2.3->river) (2025.1)\n",
            "Requirement already satisfied: tzdata>=2022.7 in d:\\studies and other stuffs\\cybersecurity\\cs-ids\\venv\\lib\\site-packages (from pandas<3.0.0,>=2.2.3->river) (2025.1)\n",
            "Requirement already satisfied: six>=1.5 in d:\\studies and other stuffs\\cybersecurity\\cs-ids\\venv\\lib\\site-packages (from python-dateutil>=2.8.2->pandas<3.0.0,>=2.2.3->river) (1.17.0)\n",
            "Note: you may need to restart the kernel to use updated packages.\n"
          ]
        },
        {
          "name": "stderr",
          "output_type": "stream",
          "text": [
            "\n",
            "[notice] A new release of pip is available: 24.3.1 -> 25.0.1\n",
            "[notice] To update, run: python.exe -m pip install --upgrade pip\n"
          ]
        },
        {
          "name": "stdout",
          "output_type": "stream",
          "text": [
            "Collecting catboost\n",
            "  Using cached catboost-1.2.7.tar.gz (71.5 MB)\n",
            "  Installing build dependencies: started\n",
            "  Installing build dependencies: finished with status 'error'\n",
            "Note: you may need to restart the kernel to use updated packages.\n"
          ]
        },
        {
          "name": "stderr",
          "output_type": "stream",
          "text": [
            "  error: subprocess-exited-with-error\n",
            "  \n",
            "  × pip subprocess to install build dependencies did not run successfully.\n",
            "  │ exit code: 1\n",
            "  ╰─> [145 lines of output]\n",
            "      Collecting setuptools>=64.0\n",
            "        Using cached setuptools-75.8.0-py3-none-any.whl.metadata (6.7 kB)\n",
            "      Collecting wheel\n",
            "        Using cached wheel-0.45.1-py3-none-any.whl.metadata (2.3 kB)\n",
            "      Collecting jupyterlab==3.*,>=3.0.6\n",
            "        Using cached jupyterlab-3.6.8-py3-none-any.whl.metadata (12 kB)\n",
            "      Collecting conan~=1.62\n",
            "        Using cached conan-1.66.0.tar.gz (789 kB)\n",
            "        Installing build dependencies: started\n",
            "        Installing build dependencies: finished with status 'done'\n",
            "        Getting requirements to build wheel: started\n",
            "        Getting requirements to build wheel: finished with status 'done'\n",
            "        Preparing metadata (pyproject.toml): started\n",
            "        Preparing metadata (pyproject.toml): finished with status 'done'\n",
            "      Collecting ipython (from jupyterlab==3.*,>=3.0.6)\n",
            "        Using cached ipython-8.32.0-py3-none-any.whl.metadata (5.0 kB)\n",
            "      Collecting packaging (from jupyterlab==3.*,>=3.0.6)\n",
            "        Using cached packaging-24.2-py3-none-any.whl.metadata (3.2 kB)\n",
            "      Collecting tornado>=6.1.0 (from jupyterlab==3.*,>=3.0.6)\n",
            "        Using cached tornado-6.4.2-cp38-abi3-win_amd64.whl.metadata (2.6 kB)\n",
            "      Collecting jupyter-core (from jupyterlab==3.*,>=3.0.6)\n",
            "        Using cached jupyter_core-5.7.2-py3-none-any.whl.metadata (3.4 kB)\n",
            "      Collecting jupyterlab-server~=2.19 (from jupyterlab==3.*,>=3.0.6)\n",
            "        Using cached jupyterlab_server-2.27.3-py3-none-any.whl.metadata (5.9 kB)\n",
            "      Collecting jupyter-server<3,>=1.16.0 (from jupyterlab==3.*,>=3.0.6)\n",
            "        Using cached jupyter_server-2.15.0-py3-none-any.whl.metadata (8.4 kB)\n",
            "      Collecting jupyter-ydoc~=0.2.4 (from jupyterlab==3.*,>=3.0.6)\n",
            "        Using cached jupyter_ydoc-0.2.5-py3-none-any.whl.metadata (2.2 kB)\n",
            "      Collecting jupyter-server-ydoc~=0.8.0 (from jupyterlab==3.*,>=3.0.6)\n",
            "        Using cached jupyter_server_ydoc-0.8.0-py3-none-any.whl.metadata (5.3 kB)\n",
            "      Collecting nbclassic (from jupyterlab==3.*,>=3.0.6)\n",
            "        Using cached nbclassic-1.2.0-py3-none-any.whl.metadata (3.6 kB)\n",
            "      Collecting notebook<7 (from jupyterlab==3.*,>=3.0.6)\n",
            "        Using cached notebook-6.5.7-py3-none-any.whl.metadata (2.5 kB)\n",
            "      Collecting jinja2>=2.1 (from jupyterlab==3.*,>=3.0.6)\n",
            "        Using cached jinja2-3.1.5-py3-none-any.whl.metadata (2.6 kB)\n",
            "      Collecting requests<3.0.0,>=2.25 (from conan~=1.62)\n",
            "        Using cached requests-2.32.3-py3-none-any.whl.metadata (4.6 kB)\n",
            "      Collecting urllib3<1.27,>=1.26.6 (from conan~=1.62)\n",
            "        Using cached urllib3-1.26.20-py2.py3-none-any.whl.metadata (50 kB)\n",
            "      Collecting colorama<0.5.0,>=0.3.3 (from conan~=1.62)\n",
            "        Using cached colorama-0.4.6-py2.py3-none-any.whl.metadata (17 kB)\n",
            "      Collecting PyYAML<6.1,>=3.11 (from conan~=1.62)\n",
            "        Using cached PyYAML-6.0.2-cp313-cp313-win_amd64.whl.metadata (2.1 kB)\n",
            "      Collecting patch-ng<1.18,>=1.17.4 (from conan~=1.62)\n",
            "        Using cached patch-ng-1.17.4.tar.gz (17 kB)\n",
            "        Installing build dependencies: started\n",
            "        Installing build dependencies: finished with status 'done'\n",
            "        Getting requirements to build wheel: started\n",
            "        Getting requirements to build wheel: finished with status 'done'\n",
            "        Preparing metadata (pyproject.toml): started\n",
            "        Preparing metadata (pyproject.toml): finished with status 'done'\n",
            "      Collecting fasteners>=0.14.1 (from conan~=1.62)\n",
            "        Using cached fasteners-0.19-py3-none-any.whl.metadata (4.9 kB)\n",
            "      Collecting six<=1.16.0,>=1.10.0 (from conan~=1.62)\n",
            "        Using cached six-1.16.0-py2.py3-none-any.whl.metadata (1.8 kB)\n",
            "      Collecting node-semver==0.6.1 (from conan~=1.62)\n",
            "        Using cached node_semver-0.6.1-py3-none-any.whl.metadata (2.1 kB)\n",
            "      Collecting pygments<3.0,>=2.0 (from conan~=1.62)\n",
            "        Using cached pygments-2.19.1-py3-none-any.whl.metadata (2.5 kB)\n",
            "      Collecting tqdm<5,>=4.28.1 (from conan~=1.62)\n",
            "        Using cached tqdm-4.67.1-py3-none-any.whl.metadata (57 kB)\n",
            "      Collecting python-dateutil<3,>=2.7.0 (from conan~=1.62)\n",
            "        Using cached python_dateutil-2.9.0.post0-py2.py3-none-any.whl.metadata (8.4 kB)\n",
            "      Collecting bottle<0.13,>=0.12.8 (from conan~=1.62)\n",
            "        Using cached bottle-0.12.25-py3-none-any.whl.metadata (1.8 kB)\n",
            "      Collecting pluginbase>=0.5 (from conan~=1.62)\n",
            "        Using cached pluginbase-1.0.1.tar.gz (43 kB)\n",
            "        Installing build dependencies: started\n",
            "        Installing build dependencies: finished with status 'done'\n",
            "        Getting requirements to build wheel: started\n",
            "        Getting requirements to build wheel: finished with status 'done'\n",
            "        Preparing metadata (pyproject.toml): started\n",
            "        Preparing metadata (pyproject.toml): finished with status 'done'\n",
            "      Collecting PyJWT<3.0.0,>=2.4.0 (from conan~=1.62)\n",
            "        Using cached PyJWT-2.10.1-py3-none-any.whl.metadata (4.0 kB)\n",
            "      Collecting MarkupSafe>=2.0 (from jinja2>=2.1->jupyterlab==3.*,>=3.0.6)\n",
            "        Using cached MarkupSafe-3.0.2-cp313-cp313-win_amd64.whl.metadata (4.1 kB)\n",
            "      Collecting anyio>=3.1.0 (from jupyter-server<3,>=1.16.0->jupyterlab==3.*,>=3.0.6)\n",
            "        Using cached anyio-4.8.0-py3-none-any.whl.metadata (4.6 kB)\n",
            "      Collecting argon2-cffi>=21.1 (from jupyter-server<3,>=1.16.0->jupyterlab==3.*,>=3.0.6)\n",
            "        Using cached argon2_cffi-23.1.0-py3-none-any.whl.metadata (5.2 kB)\n",
            "      Collecting jupyter-client>=7.4.4 (from jupyter-server<3,>=1.16.0->jupyterlab==3.*,>=3.0.6)\n",
            "        Using cached jupyter_client-8.6.3-py3-none-any.whl.metadata (8.3 kB)\n",
            "      Collecting jupyter-events>=0.11.0 (from jupyter-server<3,>=1.16.0->jupyterlab==3.*,>=3.0.6)\n",
            "        Using cached jupyter_events-0.12.0-py3-none-any.whl.metadata (5.8 kB)\n",
            "      Collecting jupyter-server-terminals>=0.4.4 (from jupyter-server<3,>=1.16.0->jupyterlab==3.*,>=3.0.6)\n",
            "        Using cached jupyter_server_terminals-0.5.3-py3-none-any.whl.metadata (5.6 kB)\n",
            "      Collecting nbconvert>=6.4.4 (from jupyter-server<3,>=1.16.0->jupyterlab==3.*,>=3.0.6)\n",
            "        Using cached nbconvert-7.16.6-py3-none-any.whl.metadata (8.5 kB)\n",
            "      Collecting nbformat>=5.3.0 (from jupyter-server<3,>=1.16.0->jupyterlab==3.*,>=3.0.6)\n",
            "        Using cached nbformat-5.10.4-py3-none-any.whl.metadata (3.6 kB)\n",
            "      Collecting overrides>=5.0 (from jupyter-server<3,>=1.16.0->jupyterlab==3.*,>=3.0.6)\n",
            "        Using cached overrides-7.7.0-py3-none-any.whl.metadata (5.8 kB)\n",
            "      Collecting prometheus-client>=0.9 (from jupyter-server<3,>=1.16.0->jupyterlab==3.*,>=3.0.6)\n",
            "        Using cached prometheus_client-0.21.1-py3-none-any.whl.metadata (1.8 kB)\n",
            "      Collecting pywinpty>=2.0.1 (from jupyter-server<3,>=1.16.0->jupyterlab==3.*,>=3.0.6)\n",
            "        Using cached pywinpty-2.0.15-cp313-cp313-win_amd64.whl.metadata (5.2 kB)\n",
            "      Collecting pyzmq>=24 (from jupyter-server<3,>=1.16.0->jupyterlab==3.*,>=3.0.6)\n",
            "        Using cached pyzmq-26.2.1-cp313-cp313-win_amd64.whl.metadata (6.2 kB)\n",
            "      Collecting send2trash>=1.8.2 (from jupyter-server<3,>=1.16.0->jupyterlab==3.*,>=3.0.6)\n",
            "        Using cached Send2Trash-1.8.3-py3-none-any.whl.metadata (4.0 kB)\n",
            "      Collecting terminado>=0.8.3 (from jupyter-server<3,>=1.16.0->jupyterlab==3.*,>=3.0.6)\n",
            "        Using cached terminado-0.18.1-py3-none-any.whl.metadata (5.8 kB)\n",
            "      Collecting traitlets>=5.6.0 (from jupyter-server<3,>=1.16.0->jupyterlab==3.*,>=3.0.6)\n",
            "        Using cached traitlets-5.14.3-py3-none-any.whl.metadata (10 kB)\n",
            "      Collecting websocket-client>=1.7 (from jupyter-server<3,>=1.16.0->jupyterlab==3.*,>=3.0.6)\n",
            "        Using cached websocket_client-1.8.0-py3-none-any.whl.metadata (8.0 kB)\n",
            "      Collecting platformdirs>=2.5 (from jupyter-core->jupyterlab==3.*,>=3.0.6)\n",
            "        Using cached platformdirs-4.3.6-py3-none-any.whl.metadata (11 kB)\n",
            "      Collecting pywin32>=300 (from jupyter-core->jupyterlab==3.*,>=3.0.6)\n",
            "        Using cached pywin32-308-cp313-cp313-win_amd64.whl.metadata (8.3 kB)\n",
            "      Collecting jupyter-server-fileid<1,>=0.6.0 (from jupyter-server-ydoc~=0.8.0->jupyterlab==3.*,>=3.0.6)\n",
            "        Using cached jupyter_server_fileid-0.9.3-py3-none-any.whl.metadata (4.7 kB)\n",
            "      Collecting ypy-websocket<0.9.0,>=0.8.2 (from jupyter-server-ydoc~=0.8.0->jupyterlab==3.*,>=3.0.6)\n",
            "        Using cached ypy_websocket-0.8.4-py3-none-any.whl.metadata (2.5 kB)\n",
            "      Collecting y-py<0.7.0,>=0.6.0 (from jupyter-ydoc~=0.2.4->jupyterlab==3.*,>=3.0.6)\n",
            "        Using cached y_py-0.6.2.tar.gz (53 kB)\n",
            "        Installing build dependencies: started\n",
            "        Installing build dependencies: finished with status 'done'\n",
            "        Getting requirements to build wheel: started\n",
            "        Getting requirements to build wheel: finished with status 'done'\n",
            "        Preparing metadata (pyproject.toml): started\n",
            "        Preparing metadata (pyproject.toml): finished with status 'error'\n",
            "        error: subprocess-exited-with-error\n",
            "      \n",
            "        Ã— Preparing metadata (pyproject.toml) did not run successfully.\n",
            "        â”‚ exit code: 1\n",
            "        â•°â”€> [6 lines of output]\n",
            "            Checking for Rust toolchain....\n",
            "      \n",
            "            Cargo, the Rust package manager, is not installed or is not on PATH.\n",
            "            This package requires Rust and Cargo to compile extensions. Install it through\n",
            "            the system's package manager or via https://rustup.rs/\n",
            "      \n",
            "            [end of output]\n",
            "      \n",
            "        note: This error originates from a subprocess, and is likely not a problem with pip.\n",
            "      error: metadata-generation-failed\n",
            "      \n",
            "      Ã— Encountered error while generating package metadata.\n",
            "      â•°â”€> See above for output.\n",
            "      \n",
            "      note: This is an issue with the package mentioned above, not pip.\n",
            "      hint: See above for details.\n",
            "      [end of output]\n",
            "  \n",
            "  note: This error originates from a subprocess, and is likely not a problem with pip.\n",
            "\n",
            "[notice] A new release of pip is available: 24.3.1 -> 25.0.1\n",
            "[notice] To update, run: python.exe -m pip install --upgrade pip\n",
            "error: subprocess-exited-with-error\n",
            "\n",
            "× pip subprocess to install build dependencies did not run successfully.\n",
            "│ exit code: 1\n",
            "╰─> See above for output.\n",
            "\n",
            "note: This error originates from a subprocess, and is likely not a problem with pip.\n"
          ]
        }
      ],
      "source": [
        "import warnings\n",
        "warnings.filterwarnings(\"ignore\")\n",
        "%pip install river\n",
        "%pip install catboost\n",
        "%pip install lightgbm\n",
        "%pip install xgboost"
      ]
    },
    {
      "cell_type": "markdown",
      "metadata": {},
      "source": []
    },
    {
      "cell_type": "markdown",
      "metadata": {
        "id": "rGHwgsskps6j"
      },
      "source": [
        "LCCDE: Decision-Based Ensemble Framework for Intrusion Detection in The Internet of Vehicles"
      ]
    },
    {
      "cell_type": "code",
      "execution_count": null,
      "metadata": {
        "id": "VsMIDSOYpvTb"
      },
      "outputs": [
        {
          "ename": "ModuleNotFoundError",
          "evalue": "No module named 'matplotlib'",
          "output_type": "error",
          "traceback": [
            "\u001b[1;31m---------------------------------------------------------------------------\u001b[0m",
            "\u001b[1;31mModuleNotFoundError\u001b[0m                       Traceback (most recent call last)",
            "Cell \u001b[1;32mIn[2], line 3\u001b[0m\n\u001b[0;32m      1\u001b[0m \u001b[38;5;28;01mimport\u001b[39;00m\u001b[38;5;250m \u001b[39m\u001b[38;5;21;01mpandas\u001b[39;00m\u001b[38;5;250m \u001b[39m\u001b[38;5;28;01mas\u001b[39;00m\u001b[38;5;250m \u001b[39m\u001b[38;5;21;01mpd\u001b[39;00m\n\u001b[0;32m      2\u001b[0m \u001b[38;5;28;01mimport\u001b[39;00m\u001b[38;5;250m \u001b[39m\u001b[38;5;21;01mnumpy\u001b[39;00m\u001b[38;5;250m \u001b[39m\u001b[38;5;28;01mas\u001b[39;00m\u001b[38;5;250m \u001b[39m\u001b[38;5;21;01mnp\u001b[39;00m\n\u001b[1;32m----> 3\u001b[0m \u001b[38;5;28;01mimport\u001b[39;00m\u001b[38;5;250m \u001b[39m\u001b[38;5;21;01mmatplotlib\u001b[39;00m\u001b[38;5;21;01m.\u001b[39;00m\u001b[38;5;21;01mpyplot\u001b[39;00m\u001b[38;5;250m \u001b[39m\u001b[38;5;28;01mas\u001b[39;00m\u001b[38;5;250m \u001b[39m\u001b[38;5;21;01mplt\u001b[39;00m\n\u001b[0;32m      4\u001b[0m \u001b[38;5;28;01mimport\u001b[39;00m\u001b[38;5;250m \u001b[39m\u001b[38;5;21;01mseaborn\u001b[39;00m\u001b[38;5;250m \u001b[39m\u001b[38;5;28;01mas\u001b[39;00m\u001b[38;5;250m \u001b[39m\u001b[38;5;21;01msns\u001b[39;00m\n\u001b[0;32m      5\u001b[0m \u001b[38;5;28;01mfrom\u001b[39;00m\u001b[38;5;250m \u001b[39m\u001b[38;5;21;01msklearn\u001b[39;00m\u001b[38;5;21;01m.\u001b[39;00m\u001b[38;5;21;01mmodel_selection\u001b[39;00m\u001b[38;5;250m \u001b[39m\u001b[38;5;28;01mimport\u001b[39;00m train_test_split\n",
            "\u001b[1;31mModuleNotFoundError\u001b[0m: No module named 'matplotlib'"
          ]
        }
      ],
      "source": [
        "import pandas as pd\n",
        "import numpy as np\n",
        "import matplotlib.pyplot as plt\n",
        "import seaborn as sns\n",
        "from sklearn.model_selection import train_test_split\n",
        "from sklearn.neighbors import KNeighborsClassifier\n",
        "from sklearn.svm import SVC\n",
        "from sklearn.impute import SimpleImputer\n",
        "from imblearn.over_sampling import SMOTE\n",
        "from sklearn.metrics import classification_report,confusion_matrix,accuracy_score, precision_score, recall_score, f1_score\n",
        "import lightgbm as lgb\n",
        "import catboost as cbt\n",
        "import xgboost as xgb\n",
        "import time\n",
        "from river import stream\n",
        "from statistics import mode"
      ]
    },
    {
      "cell_type": "code",
      "execution_count": null,
      "metadata": {
        "id": "Ihsnt1-yp8Jp"
      },
      "outputs": [],
      "source": [
        "df = pd.read_csv(\"CICIDS2017_sample_km.csv\")"
      ]
    },
    {
      "cell_type": "code",
      "execution_count": null,
      "metadata": {
        "id": "jnOia20X6YEp"
      },
      "outputs": [],
      "source": [
        "df.columns = df.columns.str.strip()  # Remove leading spaces in column names"
      ]
    },
    {
      "cell_type": "code",
      "execution_count": null,
      "metadata": {
        "colab": {
          "base_uri": "https://localhost:8080/",
          "height": 178
        },
        "id": "NGeQbH3sp9oN",
        "outputId": "4e74108e-54f0-430b-d759-d8ba7b021e1f"
      },
      "outputs": [
        {
          "data": {
            "text/html": [
              "<div>\n",
              "<style scoped>\n",
              "    .dataframe tbody tr th:only-of-type {\n",
              "        vertical-align: middle;\n",
              "    }\n",
              "\n",
              "    .dataframe tbody tr th {\n",
              "        vertical-align: top;\n",
              "    }\n",
              "\n",
              "    .dataframe thead th {\n",
              "        text-align: right;\n",
              "    }\n",
              "</style>\n",
              "<table border=\"1\" class=\"dataframe\">\n",
              "  <thead>\n",
              "    <tr style=\"text-align: right;\">\n",
              "      <th></th>\n",
              "      <th>count</th>\n",
              "    </tr>\n",
              "    <tr>\n",
              "      <th>Label</th>\n",
              "      <th></th>\n",
              "    </tr>\n",
              "  </thead>\n",
              "  <tbody>\n",
              "    <tr>\n",
              "      <th>DDoS</th>\n",
              "      <td>128027</td>\n",
              "    </tr>\n",
              "    <tr>\n",
              "      <th>BENIGN</th>\n",
              "      <td>97718</td>\n",
              "    </tr>\n",
              "  </tbody>\n",
              "</table>\n",
              "</div><br><label><b>dtype:</b> int64</label>"
            ],
            "text/plain": [
              "Label\n",
              "DDoS      128027\n",
              "BENIGN     97718\n",
              "Name: count, dtype: int64"
            ]
          },
          "execution_count": 5,
          "metadata": {},
          "output_type": "execute_result"
        }
      ],
      "source": [
        "df.Label.value_counts()"
      ]
    },
    {
      "cell_type": "code",
      "execution_count": null,
      "metadata": {
        "id": "5F7NANP3qGrr"
      },
      "outputs": [],
      "source": [
        "X = df.drop(['Label'],axis=1)\n",
        "y = df['Label']\n",
        "X_train, X_test, y_train, y_test = train_test_split(X,y, train_size = 0.8, test_size = 0.2, random_state = 0) #shuffle=False"
      ]
    },
    {
      "cell_type": "markdown",
      "metadata": {
        "id": "Dh50Rx8OqKQ6"
      },
      "source": [
        "SMOTE to solve class Imbalance"
      ]
    },
    {
      "cell_type": "code",
      "execution_count": null,
      "metadata": {
        "colab": {
          "base_uri": "https://localhost:8080/",
          "height": 178
        },
        "id": "sSS-hwMaqPrW",
        "outputId": "9d24b0ab-1c24-4aaf-9c21-74e6b5317f60"
      },
      "outputs": [
        {
          "data": {
            "text/html": [
              "<div>\n",
              "<style scoped>\n",
              "    .dataframe tbody tr th:only-of-type {\n",
              "        vertical-align: middle;\n",
              "    }\n",
              "\n",
              "    .dataframe tbody tr th {\n",
              "        vertical-align: top;\n",
              "    }\n",
              "\n",
              "    .dataframe thead th {\n",
              "        text-align: right;\n",
              "    }\n",
              "</style>\n",
              "<table border=\"1\" class=\"dataframe\">\n",
              "  <thead>\n",
              "    <tr style=\"text-align: right;\">\n",
              "      <th></th>\n",
              "      <th>count</th>\n",
              "    </tr>\n",
              "    <tr>\n",
              "      <th>Label</th>\n",
              "      <th></th>\n",
              "    </tr>\n",
              "  </thead>\n",
              "  <tbody>\n",
              "    <tr>\n",
              "      <th>DDoS</th>\n",
              "      <td>102367</td>\n",
              "    </tr>\n",
              "    <tr>\n",
              "      <th>BENIGN</th>\n",
              "      <td>78229</td>\n",
              "    </tr>\n",
              "  </tbody>\n",
              "</table>\n",
              "</div><br><label><b>dtype:</b> int64</label>"
            ],
            "text/plain": [
              "Label\n",
              "DDoS      102367\n",
              "BENIGN     78229\n",
              "Name: count, dtype: int64"
            ]
          },
          "execution_count": 8,
          "metadata": {},
          "output_type": "execute_result"
        }
      ],
      "source": [
        "pd.Series(y_train).value_counts()"
      ]
    },
    {
      "cell_type": "code",
      "execution_count": null,
      "metadata": {
        "colab": {
          "base_uri": "https://localhost:8080/"
        },
        "id": "lplOyy5_qSo8",
        "outputId": "3aad3fd3-73e1-407b-e167-90d19aa86c7d"
      },
      "outputs": [
        {
          "name": "stdout",
          "output_type": "stream",
          "text": [
            "Requirement already satisfied: imbalanced-learn in /usr/local/lib/python3.11/dist-packages (0.13.0)\n",
            "Requirement already satisfied: numpy<3,>=1.24.3 in /usr/local/lib/python3.11/dist-packages (from imbalanced-learn) (1.26.4)\n",
            "Requirement already satisfied: scipy<2,>=1.10.1 in /usr/local/lib/python3.11/dist-packages (from imbalanced-learn) (1.15.1)\n",
            "Requirement already satisfied: scikit-learn<2,>=1.3.2 in /usr/local/lib/python3.11/dist-packages (from imbalanced-learn) (1.6.1)\n",
            "Requirement already satisfied: sklearn-compat<1,>=0.1 in /usr/local/lib/python3.11/dist-packages (from imbalanced-learn) (0.1.3)\n",
            "Requirement already satisfied: joblib<2,>=1.1.1 in /usr/local/lib/python3.11/dist-packages (from imbalanced-learn) (1.4.2)\n",
            "Requirement already satisfied: threadpoolctl<4,>=2.0.0 in /usr/local/lib/python3.11/dist-packages (from imbalanced-learn) (3.5.0)\n"
          ]
        }
      ],
      "source": [
        "pip install --upgrade imbalanced-learn"
      ]
    },
    {
      "cell_type": "code",
      "execution_count": null,
      "metadata": {
        "id": "X_kMPT7vqlGO"
      },
      "outputs": [],
      "source": [
        "from imblearn.over_sampling import SMOTE\n",
        "X_train.dropna(inplace=True)\n",
        "y_train = y_train[X_train.index]  # Ensure y_train matches X_train\n",
        "\n",
        "smote=SMOTE(sampling_strategy={2:1000,4:1000})"
      ]
    },
    {
      "cell_type": "code",
      "execution_count": null,
      "metadata": {
        "colab": {
          "base_uri": "https://localhost:8080/",
          "height": 477
        },
        "id": "Z2E97ymZqpxF",
        "outputId": "e02147ce-c681-48ab-d900-265a4d1fddc0"
      },
      "outputs": [
        {
          "ename": "ValueError",
          "evalue": "Input X contains NaN.\nSMOTE does not accept missing values encoded as NaN natively. For supervised learning, you might want to consider sklearn.ensemble.HistGradientBoostingClassifier and Regressor which accept missing values encoded as NaNs natively. Alternatively, it is possible to preprocess the data, for instance by using an imputer transformer in a pipeline or drop samples with missing values. See https://scikit-learn.org/stable/modules/impute.html You can find a list of all estimators that handle NaN values at the following page: https://scikit-learn.org/stable/modules/impute.html#estimators-that-handle-nan-values",
          "output_type": "error",
          "traceback": [
            "\u001b[0;31m---------------------------------------------------------------------------\u001b[0m",
            "\u001b[0;31mValueError\u001b[0m                                Traceback (most recent call last)",
            "\u001b[0;32m<ipython-input-14-55852e24e267>\u001b[0m in \u001b[0;36m<cell line: 0>\u001b[0;34m()\u001b[0m\n\u001b[0;32m----> 1\u001b[0;31m \u001b[0mX_train\u001b[0m\u001b[0;34m,\u001b[0m \u001b[0my_train\u001b[0m \u001b[0;34m=\u001b[0m \u001b[0msmote\u001b[0m\u001b[0;34m.\u001b[0m\u001b[0mfit_resample\u001b[0m\u001b[0;34m(\u001b[0m\u001b[0mX_train\u001b[0m\u001b[0;34m,\u001b[0m \u001b[0my_train\u001b[0m\u001b[0;34m)\u001b[0m\u001b[0;34m\u001b[0m\u001b[0;34m\u001b[0m\u001b[0m\n\u001b[0m",
            "\u001b[0;32m/usr/local/lib/python3.11/dist-packages/imblearn/base.py\u001b[0m in \u001b[0;36mfit_resample\u001b[0;34m(self, X, y, **params)\u001b[0m\n\u001b[1;32m    200\u001b[0m             \u001b[0mThe\u001b[0m \u001b[0mcorresponding\u001b[0m \u001b[0mlabel\u001b[0m \u001b[0mof\u001b[0m\u001b[0;31m \u001b[0m\u001b[0;31m`\u001b[0m\u001b[0mX_resampled\u001b[0m\u001b[0;31m`\u001b[0m\u001b[0;34m.\u001b[0m\u001b[0;34m\u001b[0m\u001b[0;34m\u001b[0m\u001b[0m\n\u001b[1;32m    201\u001b[0m         \"\"\"\n\u001b[0;32m--> 202\u001b[0;31m         \u001b[0;32mreturn\u001b[0m \u001b[0msuper\u001b[0m\u001b[0;34m(\u001b[0m\u001b[0;34m)\u001b[0m\u001b[0;34m.\u001b[0m\u001b[0mfit_resample\u001b[0m\u001b[0;34m(\u001b[0m\u001b[0mX\u001b[0m\u001b[0;34m,\u001b[0m \u001b[0my\u001b[0m\u001b[0;34m,\u001b[0m \u001b[0;34m**\u001b[0m\u001b[0mparams\u001b[0m\u001b[0;34m)\u001b[0m\u001b[0;34m\u001b[0m\u001b[0;34m\u001b[0m\u001b[0m\n\u001b[0m\u001b[1;32m    203\u001b[0m \u001b[0;34m\u001b[0m\u001b[0m\n\u001b[1;32m    204\u001b[0m     \u001b[0;32mdef\u001b[0m \u001b[0m_more_tags\u001b[0m\u001b[0;34m(\u001b[0m\u001b[0mself\u001b[0m\u001b[0;34m)\u001b[0m\u001b[0;34m:\u001b[0m\u001b[0;34m\u001b[0m\u001b[0;34m\u001b[0m\u001b[0m\n",
            "\u001b[0;32m/usr/local/lib/python3.11/dist-packages/sklearn/base.py\u001b[0m in \u001b[0;36mwrapper\u001b[0;34m(estimator, *args, **kwargs)\u001b[0m\n\u001b[1;32m   1387\u001b[0m                 )\n\u001b[1;32m   1388\u001b[0m             ):\n\u001b[0;32m-> 1389\u001b[0;31m                 \u001b[0;32mreturn\u001b[0m \u001b[0mfit_method\u001b[0m\u001b[0;34m(\u001b[0m\u001b[0mestimator\u001b[0m\u001b[0;34m,\u001b[0m \u001b[0;34m*\u001b[0m\u001b[0margs\u001b[0m\u001b[0;34m,\u001b[0m \u001b[0;34m**\u001b[0m\u001b[0mkwargs\u001b[0m\u001b[0;34m)\u001b[0m\u001b[0;34m\u001b[0m\u001b[0;34m\u001b[0m\u001b[0m\n\u001b[0m\u001b[1;32m   1390\u001b[0m \u001b[0;34m\u001b[0m\u001b[0m\n\u001b[1;32m   1391\u001b[0m         \u001b[0;32mreturn\u001b[0m \u001b[0mwrapper\u001b[0m\u001b[0;34m\u001b[0m\u001b[0;34m\u001b[0m\u001b[0m\n",
            "\u001b[0;32m/usr/local/lib/python3.11/dist-packages/imblearn/base.py\u001b[0m in \u001b[0;36mfit_resample\u001b[0;34m(self, X, y, **params)\u001b[0m\n\u001b[1;32m     97\u001b[0m         \u001b[0mcheck_classification_targets\u001b[0m\u001b[0;34m(\u001b[0m\u001b[0my\u001b[0m\u001b[0;34m)\u001b[0m\u001b[0;34m\u001b[0m\u001b[0;34m\u001b[0m\u001b[0m\n\u001b[1;32m     98\u001b[0m         \u001b[0marrays_transformer\u001b[0m \u001b[0;34m=\u001b[0m \u001b[0mArraysTransformer\u001b[0m\u001b[0;34m(\u001b[0m\u001b[0mX\u001b[0m\u001b[0;34m,\u001b[0m \u001b[0my\u001b[0m\u001b[0;34m)\u001b[0m\u001b[0;34m\u001b[0m\u001b[0;34m\u001b[0m\u001b[0m\n\u001b[0;32m---> 99\u001b[0;31m         \u001b[0mX\u001b[0m\u001b[0;34m,\u001b[0m \u001b[0my\u001b[0m\u001b[0;34m,\u001b[0m \u001b[0mbinarize_y\u001b[0m \u001b[0;34m=\u001b[0m \u001b[0mself\u001b[0m\u001b[0;34m.\u001b[0m\u001b[0m_check_X_y\u001b[0m\u001b[0;34m(\u001b[0m\u001b[0mX\u001b[0m\u001b[0;34m,\u001b[0m \u001b[0my\u001b[0m\u001b[0;34m)\u001b[0m\u001b[0;34m\u001b[0m\u001b[0;34m\u001b[0m\u001b[0m\n\u001b[0m\u001b[1;32m    100\u001b[0m \u001b[0;34m\u001b[0m\u001b[0m\n\u001b[1;32m    101\u001b[0m         self.sampling_strategy_ = check_sampling_strategy(\n",
            "\u001b[0;32m/usr/local/lib/python3.11/dist-packages/imblearn/base.py\u001b[0m in \u001b[0;36m_check_X_y\u001b[0;34m(self, X, y, accept_sparse)\u001b[0m\n\u001b[1;32m    155\u001b[0m             \u001b[0maccept_sparse\u001b[0m \u001b[0;34m=\u001b[0m \u001b[0;34m[\u001b[0m\u001b[0;34m\"csr\"\u001b[0m\u001b[0;34m,\u001b[0m \u001b[0;34m\"csc\"\u001b[0m\u001b[0;34m]\u001b[0m\u001b[0;34m\u001b[0m\u001b[0;34m\u001b[0m\u001b[0m\n\u001b[1;32m    156\u001b[0m         \u001b[0my\u001b[0m\u001b[0;34m,\u001b[0m \u001b[0mbinarize_y\u001b[0m \u001b[0;34m=\u001b[0m \u001b[0mcheck_target_type\u001b[0m\u001b[0;34m(\u001b[0m\u001b[0my\u001b[0m\u001b[0;34m,\u001b[0m \u001b[0mindicate_one_vs_all\u001b[0m\u001b[0;34m=\u001b[0m\u001b[0;32mTrue\u001b[0m\u001b[0;34m)\u001b[0m\u001b[0;34m\u001b[0m\u001b[0;34m\u001b[0m\u001b[0m\n\u001b[0;32m--> 157\u001b[0;31m         \u001b[0mX\u001b[0m\u001b[0;34m,\u001b[0m \u001b[0my\u001b[0m \u001b[0;34m=\u001b[0m \u001b[0mvalidate_data\u001b[0m\u001b[0;34m(\u001b[0m\u001b[0mself\u001b[0m\u001b[0;34m,\u001b[0m \u001b[0mX\u001b[0m\u001b[0;34m=\u001b[0m\u001b[0mX\u001b[0m\u001b[0;34m,\u001b[0m \u001b[0my\u001b[0m\u001b[0;34m=\u001b[0m\u001b[0my\u001b[0m\u001b[0;34m,\u001b[0m \u001b[0mreset\u001b[0m\u001b[0;34m=\u001b[0m\u001b[0;32mTrue\u001b[0m\u001b[0;34m,\u001b[0m \u001b[0maccept_sparse\u001b[0m\u001b[0;34m=\u001b[0m\u001b[0maccept_sparse\u001b[0m\u001b[0;34m)\u001b[0m\u001b[0;34m\u001b[0m\u001b[0;34m\u001b[0m\u001b[0m\n\u001b[0m\u001b[1;32m    158\u001b[0m         \u001b[0;32mreturn\u001b[0m \u001b[0mX\u001b[0m\u001b[0;34m,\u001b[0m \u001b[0my\u001b[0m\u001b[0;34m,\u001b[0m \u001b[0mbinarize_y\u001b[0m\u001b[0;34m\u001b[0m\u001b[0;34m\u001b[0m\u001b[0m\n\u001b[1;32m    159\u001b[0m \u001b[0;34m\u001b[0m\u001b[0m\n",
            "\u001b[0;32m/usr/local/lib/python3.11/dist-packages/sklearn/utils/validation.py\u001b[0m in \u001b[0;36mvalidate_data\u001b[0;34m(_estimator, X, y, reset, validate_separately, skip_check_array, **check_params)\u001b[0m\n\u001b[1;32m   2959\u001b[0m             \u001b[0my\u001b[0m \u001b[0;34m=\u001b[0m \u001b[0mcheck_array\u001b[0m\u001b[0;34m(\u001b[0m\u001b[0my\u001b[0m\u001b[0;34m,\u001b[0m \u001b[0minput_name\u001b[0m\u001b[0;34m=\u001b[0m\u001b[0;34m\"y\"\u001b[0m\u001b[0;34m,\u001b[0m \u001b[0;34m**\u001b[0m\u001b[0mcheck_y_params\u001b[0m\u001b[0;34m)\u001b[0m\u001b[0;34m\u001b[0m\u001b[0;34m\u001b[0m\u001b[0m\n\u001b[1;32m   2960\u001b[0m         \u001b[0;32melse\u001b[0m\u001b[0;34m:\u001b[0m\u001b[0;34m\u001b[0m\u001b[0;34m\u001b[0m\u001b[0m\n\u001b[0;32m-> 2961\u001b[0;31m             \u001b[0mX\u001b[0m\u001b[0;34m,\u001b[0m \u001b[0my\u001b[0m \u001b[0;34m=\u001b[0m \u001b[0mcheck_X_y\u001b[0m\u001b[0;34m(\u001b[0m\u001b[0mX\u001b[0m\u001b[0;34m,\u001b[0m \u001b[0my\u001b[0m\u001b[0;34m,\u001b[0m \u001b[0;34m**\u001b[0m\u001b[0mcheck_params\u001b[0m\u001b[0;34m)\u001b[0m\u001b[0;34m\u001b[0m\u001b[0;34m\u001b[0m\u001b[0m\n\u001b[0m\u001b[1;32m   2962\u001b[0m         \u001b[0mout\u001b[0m \u001b[0;34m=\u001b[0m \u001b[0mX\u001b[0m\u001b[0;34m,\u001b[0m \u001b[0my\u001b[0m\u001b[0;34m\u001b[0m\u001b[0;34m\u001b[0m\u001b[0m\n\u001b[1;32m   2963\u001b[0m \u001b[0;34m\u001b[0m\u001b[0m\n",
            "\u001b[0;32m/usr/local/lib/python3.11/dist-packages/sklearn/utils/validation.py\u001b[0m in \u001b[0;36mcheck_X_y\u001b[0;34m(X, y, accept_sparse, accept_large_sparse, dtype, order, copy, force_writeable, force_all_finite, ensure_all_finite, ensure_2d, allow_nd, multi_output, ensure_min_samples, ensure_min_features, y_numeric, estimator)\u001b[0m\n\u001b[1;32m   1368\u001b[0m     \u001b[0mensure_all_finite\u001b[0m \u001b[0;34m=\u001b[0m \u001b[0m_deprecate_force_all_finite\u001b[0m\u001b[0;34m(\u001b[0m\u001b[0mforce_all_finite\u001b[0m\u001b[0;34m,\u001b[0m \u001b[0mensure_all_finite\u001b[0m\u001b[0;34m)\u001b[0m\u001b[0;34m\u001b[0m\u001b[0;34m\u001b[0m\u001b[0m\n\u001b[1;32m   1369\u001b[0m \u001b[0;34m\u001b[0m\u001b[0m\n\u001b[0;32m-> 1370\u001b[0;31m     X = check_array(\n\u001b[0m\u001b[1;32m   1371\u001b[0m         \u001b[0mX\u001b[0m\u001b[0;34m,\u001b[0m\u001b[0;34m\u001b[0m\u001b[0;34m\u001b[0m\u001b[0m\n\u001b[1;32m   1372\u001b[0m         \u001b[0maccept_sparse\u001b[0m\u001b[0;34m=\u001b[0m\u001b[0maccept_sparse\u001b[0m\u001b[0;34m,\u001b[0m\u001b[0;34m\u001b[0m\u001b[0;34m\u001b[0m\u001b[0m\n",
            "\u001b[0;32m/usr/local/lib/python3.11/dist-packages/sklearn/utils/validation.py\u001b[0m in \u001b[0;36mcheck_array\u001b[0;34m(array, accept_sparse, accept_large_sparse, dtype, order, copy, force_writeable, force_all_finite, ensure_all_finite, ensure_non_negative, ensure_2d, allow_nd, ensure_min_samples, ensure_min_features, estimator, input_name)\u001b[0m\n\u001b[1;32m   1105\u001b[0m \u001b[0;34m\u001b[0m\u001b[0m\n\u001b[1;32m   1106\u001b[0m         \u001b[0;32mif\u001b[0m \u001b[0mensure_all_finite\u001b[0m\u001b[0;34m:\u001b[0m\u001b[0;34m\u001b[0m\u001b[0;34m\u001b[0m\u001b[0m\n\u001b[0;32m-> 1107\u001b[0;31m             _assert_all_finite(\n\u001b[0m\u001b[1;32m   1108\u001b[0m                 \u001b[0marray\u001b[0m\u001b[0;34m,\u001b[0m\u001b[0;34m\u001b[0m\u001b[0;34m\u001b[0m\u001b[0m\n\u001b[1;32m   1109\u001b[0m                 \u001b[0minput_name\u001b[0m\u001b[0;34m=\u001b[0m\u001b[0minput_name\u001b[0m\u001b[0;34m,\u001b[0m\u001b[0;34m\u001b[0m\u001b[0;34m\u001b[0m\u001b[0m\n",
            "\u001b[0;32m/usr/local/lib/python3.11/dist-packages/sklearn/utils/validation.py\u001b[0m in \u001b[0;36m_assert_all_finite\u001b[0;34m(X, allow_nan, msg_dtype, estimator_name, input_name)\u001b[0m\n\u001b[1;32m    118\u001b[0m         \u001b[0;32mreturn\u001b[0m\u001b[0;34m\u001b[0m\u001b[0;34m\u001b[0m\u001b[0m\n\u001b[1;32m    119\u001b[0m \u001b[0;34m\u001b[0m\u001b[0m\n\u001b[0;32m--> 120\u001b[0;31m     _assert_all_finite_element_wise(\n\u001b[0m\u001b[1;32m    121\u001b[0m         \u001b[0mX\u001b[0m\u001b[0;34m,\u001b[0m\u001b[0;34m\u001b[0m\u001b[0;34m\u001b[0m\u001b[0m\n\u001b[1;32m    122\u001b[0m         \u001b[0mxp\u001b[0m\u001b[0;34m=\u001b[0m\u001b[0mxp\u001b[0m\u001b[0;34m,\u001b[0m\u001b[0;34m\u001b[0m\u001b[0;34m\u001b[0m\u001b[0m\n",
            "\u001b[0;32m/usr/local/lib/python3.11/dist-packages/sklearn/utils/validation.py\u001b[0m in \u001b[0;36m_assert_all_finite_element_wise\u001b[0;34m(X, xp, allow_nan, msg_dtype, estimator_name, input_name)\u001b[0m\n\u001b[1;32m    167\u001b[0m                 \u001b[0;34m\"#estimators-that-handle-nan-values\"\u001b[0m\u001b[0;34m\u001b[0m\u001b[0;34m\u001b[0m\u001b[0m\n\u001b[1;32m    168\u001b[0m             )\n\u001b[0;32m--> 169\u001b[0;31m         \u001b[0;32mraise\u001b[0m \u001b[0mValueError\u001b[0m\u001b[0;34m(\u001b[0m\u001b[0mmsg_err\u001b[0m\u001b[0;34m)\u001b[0m\u001b[0;34m\u001b[0m\u001b[0;34m\u001b[0m\u001b[0m\n\u001b[0m\u001b[1;32m    170\u001b[0m \u001b[0;34m\u001b[0m\u001b[0m\n\u001b[1;32m    171\u001b[0m \u001b[0;34m\u001b[0m\u001b[0m\n",
            "\u001b[0;31mValueError\u001b[0m: Input X contains NaN.\nSMOTE does not accept missing values encoded as NaN natively. For supervised learning, you might want to consider sklearn.ensemble.HistGradientBoostingClassifier and Regressor which accept missing values encoded as NaNs natively. Alternatively, it is possible to preprocess the data, for instance by using an imputer transformer in a pipeline or drop samples with missing values. See https://scikit-learn.org/stable/modules/impute.html You can find a list of all estimators that handle NaN values at the following page: https://scikit-learn.org/stable/modules/impute.html#estimators-that-handle-nan-values"
          ]
        }
      ],
      "source": [
        "X_train, y_train = smote.fit_resample(X_train, y_train)"
      ]
    },
    {
      "cell_type": "code",
      "execution_count": null,
      "metadata": {
        "colab": {
          "base_uri": "https://localhost:8080/",
          "height": 178
        },
        "id": "5ylxGCzXqr2X",
        "outputId": "6fefe885-2fca-435f-85f2-caa8cb19b6c0"
      },
      "outputs": [
        {
          "data": {
            "text/html": [
              "<div>\n",
              "<style scoped>\n",
              "    .dataframe tbody tr th:only-of-type {\n",
              "        vertical-align: middle;\n",
              "    }\n",
              "\n",
              "    .dataframe tbody tr th {\n",
              "        vertical-align: top;\n",
              "    }\n",
              "\n",
              "    .dataframe thead th {\n",
              "        text-align: right;\n",
              "    }\n",
              "</style>\n",
              "<table border=\"1\" class=\"dataframe\">\n",
              "  <thead>\n",
              "    <tr style=\"text-align: right;\">\n",
              "      <th></th>\n",
              "      <th>count</th>\n",
              "    </tr>\n",
              "    <tr>\n",
              "      <th>Label</th>\n",
              "      <th></th>\n",
              "    </tr>\n",
              "  </thead>\n",
              "  <tbody>\n",
              "    <tr>\n",
              "      <th>DDoS</th>\n",
              "      <td>102367</td>\n",
              "    </tr>\n",
              "    <tr>\n",
              "      <th>BENIGN</th>\n",
              "      <td>78229</td>\n",
              "    </tr>\n",
              "  </tbody>\n",
              "</table>\n",
              "</div><br><label><b>dtype:</b> int64</label>"
            ],
            "text/plain": [
              "Label\n",
              "DDoS      102367\n",
              "BENIGN     78229\n",
              "Name: count, dtype: int64"
            ]
          },
          "execution_count": 15,
          "metadata": {},
          "output_type": "execute_result"
        }
      ],
      "source": [
        "pd.Series(y_train).value_counts()"
      ]
    },
    {
      "cell_type": "markdown",
      "metadata": {
        "id": "bo50AvawsZ5Y"
      },
      "source": [
        "Training LightGBM"
      ]
    },
    {
      "cell_type": "code",
      "execution_count": null,
      "metadata": {
        "colab": {
          "base_uri": "https://localhost:8080/",
          "height": 919
        },
        "id": "MG8UuS_Cs-F3",
        "outputId": "2415e9b3-c24e-42f5-f015-212dd97ab422"
      },
      "outputs": [
        {
          "name": "stdout",
          "output_type": "stream",
          "text": [
            "[LightGBM] [Warning] Found whitespace in feature_names, replace with underlines\n",
            "[LightGBM] [Info] Number of positive: 102367, number of negative: 78229\n",
            "[LightGBM] [Info] Auto-choosing row-wise multi-threading, the overhead of testing was 0.066680 seconds.\n",
            "You can set `force_row_wise=true` to remove the overhead.\n",
            "And if memory is not enough, you can set `force_col_wise=true`.\n",
            "[LightGBM] [Info] Total Bins 14146\n",
            "[LightGBM] [Info] Number of data points in the train set: 180596, number of used features: 68\n",
            "[LightGBM] [Info] [binary:BoostFromScore]: pavg=0.566829 -> initscore=0.268924\n",
            "[LightGBM] [Info] Start training from score 0.268924\n",
            "              precision    recall  f1-score   support\n",
            "\n",
            "      BENIGN       1.00      1.00      1.00     19489\n",
            "        DDoS       1.00      1.00      1.00     25660\n",
            "\n",
            "    accuracy                           1.00     45149\n",
            "   macro avg       1.00      1.00      1.00     45149\n",
            "weighted avg       1.00      1.00      1.00     45149\n",
            "\n",
            "Accuracy of LightGBM: 0.9999114044607854\n",
            "Precision of LightGBM: 0.9999114095525037\n",
            "Recall of LightGBM: 0.9999114044607854\n",
            "Average F1 of LightGBM: 0.9999114050072285\n",
            "F1 of LightGBM for each type of attack: [0.99989738 0.99992205]\n"
          ]
        },
        {
          "data": {
            "image/png": "[encoded data removed]",
            "text/plain": [
              "<Figure size 500x500 with 2 Axes>"
            ]
          },
          "metadata": {},
          "output_type": "display_data"
        },
        {
          "name": "stdout",
          "output_type": "stream",
          "text": [
            "CPU times: user 8.78 s, sys: 300 ms, total: 9.08 s\n",
            "Wall time: 9.02 s\n"
          ]
        }
      ],
      "source": [
        "? %%time\n",
        "# Train the LightGBM algorithm\n",
        "import lightgbm as lgb\n",
        "lg = lgb.LGBMClassifier()\n",
        "lg.fit(X_train, y_train)\n",
        "y_pred = lg.predict(X_test)\n",
        "print(classification_report(y_test,y_pred))\n",
        "print(\"Accuracy of LightGBM: \"+ str(accuracy_score(y_test, y_pred)))\n",
        "print(\"Precision of LightGBM: \"+ str(precision_score(y_test, y_pred, average='weighted')))\n",
        "print(\"Recall of LightGBM: \"+ str(recall_score(y_test, y_pred, average='weighted')))\n",
        "print(\"Average F1 of LightGBM: \"+ str(f1_score(y_test, y_pred, average='weighted')))\n",
        "print(\"F1 of LightGBM for each type of attack: \"+ str(f1_score(y_test, y_pred, average=None)))\n",
        "lg_f1=f1_score(y_test, y_pred, average=None)\n",
        "\n",
        "# Plot the confusion matrix\n",
        "cm=confusion_matrix(y_test,y_pred)\n",
        "f,ax=plt.subplots(figsize=(5,5))\n",
        "sns.heatmap(cm,annot=True,linewidth=0.5,linecolor=\"red\",fmt=\".0f\",ax=ax)\n",
        "plt.xlabel(\"y_pred\")\n",
        "plt.ylabel(\"y_true\")\n",
        "plt.show()"
      ]
    },
    {
      "cell_type": "markdown",
      "metadata": {
        "id": "5L9BiNI3tIaZ"
      },
      "source": [
        "XGBoost"
      ]
    },
    {
      "cell_type": "code",
      "execution_count": null,
      "metadata": {
        "id": "YgyYeJNTtLV1"
      },
      "outputs": [],
      "source": [
        "%%time\n",
        "# Train the XGBoost algorithm\n",
        "import xgboost as xgb\n",
        "xg = xgb.XGBClassifier()\n",
        "\n",
        "X_train_x = X_train.values\n",
        "X_test_x = X_test.values\n",
        "\n",
        "xg.fit(X_train_x, y_train)\n",
        "\n",
        "y_pred = xg.predict(X_test_x)\n",
        "print(classification_report(y_test,y_pred))\n",
        "print(\"Accuracy of XGBoost: \"+ str(accuracy_score(y_test, y_pred)))\n",
        "print(\"Precision of XGBoost: \"+ str(precision_score(y_test, y_pred, average='weighted')))\n",
        "print(\"Recall of XGBoost: \"+ str(recall_score(y_test, y_pred, average='weighted')))\n",
        "print(\"Average F1 of XGBoost: \"+ str(f1_score(y_test, y_pred, average='weighted')))\n",
        "print(\"F1 of XGBoost for each type of attack: \"+ str(f1_score(y_test, y_pred, average=None)))\n",
        "xg_f1=f1_score(y_test, y_pred, average=None)\n",
        "\n",
        "# Plot the confusion matrix\n",
        "cm=confusion_matrix(y_test,y_pred)\n",
        "f,ax=plt.subplots(figsize=(5,5))\n",
        "sns.heatmap(cm,annot=True,linewidth=0.5,linecolor=\"red\",fmt=\".0f\",ax=ax)\n",
        "plt.xlabel(\"y_pred\")\n",
        "plt.ylabel(\"y_true\")\n",
        "plt.show()"
      ]
    },
    {
      "cell_type": "markdown",
      "metadata": {
        "id": "0I3fRhxHtPQq"
      },
      "source": [
        "CatBoost"
      ]
    },
    {
      "cell_type": "code",
      "execution_count": null,
      "metadata": {
        "id": "JR-KS54ZtSfk"
      },
      "outputs": [],
      "source": [
        "%%time\n",
        "# Train the CatBoost algorithm\n",
        "import catboost as cbt\n",
        "cb = cbt.CatBoostClassifier(verbose=0,boosting_type='Plain')\n",
        "#cb = cbt.CatBoostClassifier()\n",
        "\n",
        "cb.fit(X_train, y_train)\n",
        "y_pred = cb.predict(X_test)\n",
        "print(classification_report(y_test,y_pred))\n",
        "print(\"Accuracy of CatBoost: \"+ str(accuracy_score(y_test, y_pred)))\n",
        "print(\"Precision of CatBoost: \"+ str(precision_score(y_test, y_pred, average='weighted')))\n",
        "print(\"Recall of CatBoost: \"+ str(recall_score(y_test, y_pred, average='weighted')))\n",
        "print(\"Average F1 of CatBoost: \"+ str(f1_score(y_test, y_pred, average='weighted')))\n",
        "print(\"F1 of CatBoost for each type of attack: \"+ str(f1_score(y_test, y_pred, average=None)))\n",
        "cb_f1=f1_score(y_test, y_pred, average=None)\n",
        "\n",
        "# Plot the confusion matrix\n",
        "cm=confusion_matrix(y_test,y_pred)\n",
        "f,ax=plt.subplots(figsize=(5,5))\n",
        "sns.heatmap(cm,annot=True,linewidth=0.5,linecolor=\"red\",fmt=\".0f\",ax=ax)\n",
        "plt.xlabel(\"y_pred\")\n",
        "plt.ylabel(\"y_true\")\n",
        "plt.show()"
      ]
    },
    {
      "cell_type": "markdown",
      "metadata": {},
      "source": [
        "KNN"
      ]
    },
    {
      "cell_type": "code",
      "execution_count": null,
      "metadata": {},
      "outputs": [],
      "source": [
        "%%time\n",
        "\n",
        "# Train KNN\n",
        "knn = KNeighborsClassifier(n_neighbors=5)\n",
        "knn.fit(X_train, y_train)\n",
        "y_pred_knn = knn.predict(X_test)\n",
        "\n",
        "# Evaluation\n",
        "print(\"\\nKNN Evaluation:\")\n",
        "print(classification_report(y_test, y_pred_knn))\n",
        "print(f\"Accuracy: {accuracy_score(y_test, y_pred_knn):.4f}\")\n",
        "print(f\"Precision: {precision_score(y_test, y_pred_knn, average='weighted'):.4f}\")\n",
        "print(f\"Recall: {recall_score(y_test, y_pred_knn, average='weighted'):.4f}\")\n",
        "print(f\"F1 Score: {f1_score(y_test, y_pred_knn, average='weighted'):.4f}\")\n",
        "\n",
        "# Confusion matrix\n",
        "cm = confusion_matrix(y_test, y_pred_knn)\n",
        "plt.figure(figsize=(5, 5))\n",
        "sns.heatmap(cm, annot=True, linewidths=0.5, linecolor=\"red\", fmt=\".0f\", cmap='Blues')\n",
        "plt.xlabel(\"Predicted\")\n",
        "plt.ylabel(\"Actual\")\n",
        "plt.title(\"Confusion Matrix - KNN\")\n",
        "plt.show()\n"
      ]
    },
    {
      "cell_type": "markdown",
      "metadata": {},
      "source": [
        "SVM"
      ]
    },
    {
      "cell_type": "code",
      "execution_count": null,
      "metadata": {},
      "outputs": [],
      "source": [
        "%%time\n",
        "\n",
        "# Train SVM\n",
        "svm = SVC(kernel='rbf')\n",
        "svm.fit(X_train, y_train)\n",
        "y_pred_svm = svm.predict(X_test)\n",
        "\n",
        "# Evaluation\n",
        "print(\"\\nSVM Evaluation:\")\n",
        "print(classification_report(y_test, y_pred_svm))\n",
        "print(f\"Accuracy: {accuracy_score(y_test, y_pred_svm):.4f}\")\n",
        "print(f\"Precision: {precision_score(y_test, y_pred_svm, average='weighted'):.4f}\")\n",
        "print(f\"Recall: {recall_score(y_test, y_pred_svm, average='weighted'):.4f}\")\n",
        "print(f\"F1 Score: {f1_score(y_test, y_pred_svm, average='weighted'):.4f}\")\n",
        "\n",
        "# Confusion matrix\n",
        "cm = confusion_matrix(y_test, y_pred_svm)\n",
        "plt.figure(figsize=(5, 5))\n",
        "sns.heatmap(cm, annot=True, linewidths=0.5, linecolor=\"red\", fmt=\".0f\", cmap='Blues')\n",
        "plt.xlabel(\"Predicted\")\n",
        "plt.ylabel(\"Actual\")\n",
        "plt.title(\"Confusion Matrix - SVM\")\n",
        "plt.show()\n"
      ]
    },
    {
      "cell_type": "markdown",
      "metadata": {},
      "source": []
    },
    {
      "cell_type": "code",
      "execution_count": null,
      "metadata": {},
      "outputs": [],
      "source": [
        "# Leading model list for each class\n",
        "model=[]\n",
        "for i in range(len(lg_f1)):\n",
        "    if max(lg_f1[i],xg_f1[i],cb_f1[i]) == lg_f1[i]:\n",
        "        model.append(lg)\n",
        "    elif max(lg_f1[i],xg_f1[i],cb_f1[i]) == xg_f1[i]:\n",
        "        model.append(xg)\n",
        "    else:\n",
        "        model.append(cb)"
      ]
    },
    {
      "cell_type": "code",
      "execution_count": null,
      "metadata": {},
      "outputs": [],
      "source": [
        "model"
      ]
    },
    {
      "cell_type": "markdown",
      "metadata": {},
      "source": [
        "**Leading Model for Each Type of Attack:**  \n",
        "0 BENIGN: &emsp; XGBClassifier  \n",
        "1 Bot:        &emsp;  &emsp;      XGBClassifier   \n",
        "2 BruteForce:  &emsp;      LGBMClassifier  \n",
        "3 DoS:        &emsp;   &emsp;   XGBClassifier  \n",
        "4 Infiltration:  &emsp;       LGBMClassifier  \n",
        "5 PortScan:  &emsp;       LGBMClassifier  \n",
        "6 WebAttack:    &emsp;      XGBClassifier  "
      ]
    },
    {
      "cell_type": "markdown",
      "metadata": {},
      "source": [
        "LCCDE Prediction"
      ]
    },
    {
      "cell_type": "code",
      "execution_count": null,
      "metadata": {},
      "outputs": [],
      "source": [
        "def LCCDE(X_test, y_test, m1, m2, m3):\n",
        "    i = 0\n",
        "    t = []\n",
        "    m = []\n",
        "    yt = []\n",
        "    yp = []\n",
        "    l = []\n",
        "    pred_l = []\n",
        "    pro_l = []\n",
        "\n",
        "    # For each class (normal or a type of attack), find the leader model\n",
        "    for xi, yi in stream.iter_pandas(X_test, y_test):\n",
        "\n",
        "        xi2=np.array(list(xi.values()))\n",
        "        y_pred1 = m1.predict(xi2.reshape(1, -1))      # model 1 (LightGBM) makes a prediction on text sample xi\n",
        "        y_pred1 = int(y_pred1[0])\n",
        "        y_pred2 = m2.predict(xi2.reshape(1, -1))      # model 2 (XGBoost) makes a prediction on text sample xi\n",
        "        y_pred2 = int(y_pred2[0])\n",
        "        y_pred3 = m3.predict(xi2.reshape(1, -1))      # model 3 (Catboost) makes a prediction on text sample xi\n",
        "        y_pred3 = int(y_pred3[0])\n",
        "\n",
        "        p1 = m1.predict_proba(xi2.reshape(1, -1))     # The prediction probability (confidence) list of model 1\n",
        "        p2 = m2.predict_proba(xi2.reshape(1, -1))     # The prediction probability (confidence) list of model 2\n",
        "        p3 = m3.predict_proba(xi2.reshape(1, -1))     # The prediction probability (confidence) list of model 3\n",
        "\n",
        "        # Find the highest prediction probability among all classes for each ML model\n",
        "        y_pred_p1 = np.max(p1)\n",
        "        y_pred_p2 = np.max(p2)\n",
        "        y_pred_p3 = np.max(p3)\n",
        "\n",
        "        if y_pred1 == y_pred2 == y_pred3: # If the predicted classes of all the three models are the same\n",
        "            y_pred = y_pred1 # Use this predicted class as the final predicted class\n",
        "\n",
        "        elif y_pred1 != y_pred2 != y_pred3: # If the predicted classes of all the three models are different\n",
        "            # For each prediction model, check if the predicted class’s original ML model is the same as its leader model\n",
        "            if model[y_pred1]==m1: # If they are the same and the leading model is model 1 (LightGBM)\n",
        "                l.append(m1)\n",
        "                pred_l.append(y_pred1) # Save the predicted class\n",
        "                pro_l.append(y_pred_p1) # Save the confidence\n",
        "\n",
        "            if model[y_pred2]==m2: # If they are the same and the leading model is model 2 (XGBoost)\n",
        "                l.append(m2)\n",
        "                pred_l.append(y_pred2)\n",
        "                pro_l.append(y_pred_p2)\n",
        "\n",
        "            if model[y_pred3]==m3: # If they are the same and the leading model is model 3 (CatBoost)\n",
        "                l.append(m3)\n",
        "                pred_l.append(y_pred3)\n",
        "                pro_l.append(y_pred_p3)\n",
        "\n",
        "            if len(l)==0: # Avoid empty probability list\n",
        "                pro_l=[y_pred_p1,y_pred_p2,y_pred_p3]\n",
        "\n",
        "            elif len(l)==1: # If only one pair of the original model and the leader model for each predicted class is the same\n",
        "                y_pred=pred_l[0] # Use the predicted class of the leader model as the final prediction class\n",
        "\n",
        "            else: # If no pair or multiple pairs of the original prediction model and the leader model for each predicted class are the same\n",
        "                max_p = max(pro_l) # Find the highest confidence\n",
        "\n",
        "                # Use the predicted class with the highest confidence as the final prediction class\n",
        "                if max_p == y_pred_p1:\n",
        "                    y_pred = y_pred1\n",
        "                elif max_p == y_pred_p2:\n",
        "                    y_pred = y_pred2\n",
        "                else:\n",
        "                    y_pred = y_pred3\n",
        "\n",
        "        else: # If two predicted classes are the same and the other one is different\n",
        "            n = mode([y_pred1,y_pred2,y_pred3]) # Find the predicted class with the majority vote\n",
        "            y_pred = model[n].predict(xi2.reshape(1, -1)) # Use the predicted class of the leader model as the final prediction class\n",
        "            y_pred = int(y_pred[0])\n",
        "\n",
        "        yt.append(yi)\n",
        "        yp.append(y_pred) # Save the predicted classes for all tested samples\n",
        "    return yt, yp"
      ]
    },
    {
      "cell_type": "code",
      "execution_count": null,
      "metadata": {},
      "outputs": [],
      "source": [
        "%%time\n",
        "# Implementing LCCDE\n",
        "yt, yp = LCCDE(X_test, y_test, m1 = lg, m2 = xg, m3 = cb)"
      ]
    },
    {
      "cell_type": "code",
      "execution_count": null,
      "metadata": {},
      "outputs": [],
      "source": [
        "# Comparison: The F1-scores for each base model\n",
        "print(\"F1 of LightGBM for each type of attack: \"+ str(lg_f1))\n",
        "print(\"F1 of XGBoost for each type of attack: \"+ str(xg_f1))\n",
        "print(\"F1 of CatBoost for each type of attack: \"+ str(cb_f1))"
      ]
    },
    {
      "cell_type": "markdown",
      "metadata": {},
      "source": [
        "**Conclusion**: The performance (F1-score) of the proposed LCCDE ensemble model on each type of attack detection is higher than any base ML model."
      ]
    }
  ],
  "metadata": {
    "colab": {
      "provenance": []
    },
    "kernelspec": {
      "display_name": "venv",
      "language": "python",
      "name": "python3"
    },
    "language_info": {
      "codemirror_mode": {
        "name": "ipython",
        "version": 3
      },
      "file_extension": ".py",
      "mimetype": "text/x-python",
      "name": "python",
      "nbconvert_exporter": "python",
      "pygments_lexer": "ipython3",
      "version": "3.13.1"
    }
  },
  "nbformat": 4,
  "nbformat_minor": 0
}
